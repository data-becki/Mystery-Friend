{
 "cells": [
  {
   "cell_type": "markdown",
   "id": "947b1d90",
   "metadata": {},
   "source": [
    "# Mystery Friend\n",
    "\n",
    "You’ve received an anonymous postcard from a friend who you haven’t seen in years. Your friend did not leave a name, but the card is definitely addressed to you. So far, you’ve narrowed your search down to three friends, based on handwriting:\n",
    "\n",
    "-    Emma Goldman\n",
    "-    Matthew Henson\n",
    "-    TingFang Wu\n",
    "\n",
    "But which one sent you the card?\n",
    "\n",
    "Just like you can classify a message as spam or not spam with a spam filter, you can classify writing as related to one friend or another by building a kind of friend-writing classifier. You have past writing from all three friends stored up in the variable `friends_docs`, which means you can use scikit-learn’s bag-of-words and Naive Bayes classifier to determine who the mystery friend is!\n",
    "\n",
    "Ready?"
   ]
  },
  {
   "cell_type": "markdown",
   "id": "a67a4709",
   "metadata": {},
   "source": [
    "## Feature vectors are in the bag with scikit-learn"
   ]
  },
  {
   "cell_type": "markdown",
   "id": "b68acdeb",
   "metadata": {},
   "source": [
    "1. Import `CountVectorizer` from `sklearn.feature_extraction.text`. Below it, import `MultinomialNB` from `sklearn.naive_bayes`."
   ]
  },
  {
   "cell_type": "code",
   "execution_count": 2,
   "id": "7c26ca79",
   "metadata": {},
   "outputs": [],
   "source": [
    "from goldman_emma_raw import goldman_docs\n",
    "from henson_matthew_raw import henson_docs\n",
    "from wu_tingfang_raw import wu_docs\n",
    "# import sklearn modules here:\n",
    "from sklearn.feature_extraction.text import CountVectorizer\n",
    "from sklearn.naive_bayes import MultinomialNB"
   ]
  },
  {
   "cell_type": "code",
   "execution_count": 5,
   "id": "e73a7463",
   "metadata": {},
   "outputs": [],
   "source": [
    "# Setting up the combined list of friends' writing samples\n",
    "friends_docs = goldman_docs + henson_docs + wu_docs\n",
    "# Setting up labels for your three friends\n",
    "friends_labels = [1] * 154 + [2] * 141 + [3] * 166\n"
   ]
  },
  {
   "cell_type": "code",
   "execution_count": 42,
   "id": "183bee1c",
   "metadata": {},
   "outputs": [],
   "source": [
    "mystery_postcard = \"\"\"\n",
    "My friend,\n",
    "From the 10th of July to the 13th, a fierce storm raged, clouds of\n",
    "freeing spray broke over the ship, incasing her in a coat of icy mail,\n",
    "and the tempest forced all of the ice out of the lower end of the\n",
    "channel and beyond as far as the eye could see, but the _Roosevelt_\n",
    "still remained surrounded by ice.\n",
    "Hope to see you soon.\n",
    "\"\"\"\n",
    "# mystery_postcard = \"\"\"\n",
    "# Marriage and love have nothing in common; they are as far apart as the\n",
    "# poles; are, in fact, antagonistic to each other. No doubt some marriages\n",
    "# have been the result of love. Not, however, because love could assert\n",
    "# itself only in marriage; much rather is it because few people can\n",
    "# completely outgrow a convention. There are today large numbers of men\n",
    "# and women to whom marriage is naught but a farce, but who submit to it\n",
    "# for the sake of public opinion. At any rate, while it is true that some\n",
    "# marriages are based on love, and while it is equally true that in some\n",
    "# cases love continues in married life, I maintain that it does so\n",
    "# regardless of marriage, and not because of it.\n",
    "# \"\"\"\n"
   ]
  },
  {
   "cell_type": "markdown",
   "id": "11bb6ca6",
   "metadata": {},
   "source": [
    "2. Define `bow_vectorizer` as an implementation of `CountVectorizer`."
   ]
  },
  {
   "cell_type": "code",
   "execution_count": 26,
   "id": "4389db2d",
   "metadata": {},
   "outputs": [],
   "source": [
    "bow_vectorizer = CountVectorizer()"
   ]
  },
  {
   "cell_type": "markdown",
   "id": "55b5c9fa",
   "metadata": {},
   "source": [
    "3. Use your newly minted `bow_vectorizer` to both `fit` (train) and `transform` (vectorize) all your friends’ writing (stored in the variable `friends_docs`). Save the resulting vector object as `friends_vectors`."
   ]
  },
  {
   "cell_type": "code",
   "execution_count": 27,
   "id": "6c3e9ffd",
   "metadata": {},
   "outputs": [],
   "source": [
    "# Define friends_vectors:\n",
    "friends_vectors = bow_vectorizer.fit_transform(friends_docs)\n",
    "# friends_vectors"
   ]
  },
  {
   "cell_type": "markdown",
   "id": "f32e056c",
   "metadata": {},
   "source": [
    "4. Create a new variable `mystery_vector`. Assign to it the vectorized form of `[mystery_postcard]` using the vectorizer’s `.transform()` method.\n",
    "\n",
    "    (`mystery_postcard` is a string, while the vectorizer expects a list as an argument.)"
   ]
  },
  {
   "cell_type": "code",
   "execution_count": 43,
   "id": "57a9fad0",
   "metadata": {},
   "outputs": [],
   "source": [
    "# Define mystery_vector:\n",
    "mystery_vector = bow_vectorizer.transform([mystery_postcard])"
   ]
  },
  {
   "cell_type": "markdown",
   "id": "f6687623",
   "metadata": {},
   "source": [
    "## This mystery friend gets classified"
   ]
  },
  {
   "cell_type": "markdown",
   "id": "9170edb5",
   "metadata": {},
   "source": [
    "5. You’ve vectorized and prepared all the documents. Let’s take a looks at your friends’ writing samples to get a sense of how they write.\n",
    "\n",
    "    Print out one document of each friend’s writing — try any one between `0` and `140`. (Your friend’s documents are stored in `goldman_docs`, `henson_docs`, and `wu_docs`.)"
   ]
  },
  {
   "cell_type": "code",
   "execution_count": 29,
   "id": "758d663d",
   "metadata": {},
   "outputs": [
    {
     "data": {
      "text/plain": [
       "' All the\\nearly sagas rest on that idea, which continues to be the LEIT-MOTIF\\nof the biblical tales dealing with the relation of man to God, to the\\nState, to society'"
      ]
     },
     "execution_count": 29,
     "metadata": {},
     "output_type": "execute_result"
    }
   ],
   "source": [
    "goldman_docs[20]"
   ]
  },
  {
   "cell_type": "code",
   "execution_count": 30,
   "id": "020c8a78",
   "metadata": {},
   "outputs": [
    {
     "data": {
      "text/plain": [
       "'Peary accompanied her husband, and among the members\\nof the expedition were Dr'"
      ]
     },
     "execution_count": 30,
     "metadata": {},
     "output_type": "execute_result"
    }
   ],
   "source": [
    "henson_docs[20]"
   ]
  },
  {
   "cell_type": "code",
   "execution_count": 31,
   "id": "9adb4288",
   "metadata": {},
   "outputs": [
    {
     "data": {
      "text/plain": [
       "' I have asked many other\\nAmericans similar questions and they all have given me replies in the\\nsame way'"
      ]
     },
     "execution_count": 31,
     "metadata": {},
     "output_type": "execute_result"
    }
   ],
   "source": [
    "wu_docs[20]"
   ]
  },
  {
   "cell_type": "markdown",
   "id": "09562ed9",
   "metadata": {},
   "source": [
    "6. Have an inkling about which friend wrote the mystery card? We can use a classifier to confirm those suspicions…\n",
    "\n",
    "    Implement a Naive Bayes classifier using `MultinomialNB`. Save the result to `friends_classifier`."
   ]
  },
  {
   "cell_type": "code",
   "execution_count": 32,
   "id": "eafad8cc",
   "metadata": {},
   "outputs": [],
   "source": [
    "# Define friends_classifier:\n",
    "friends_classifier = MultinomialNB()"
   ]
  },
  {
   "cell_type": "markdown",
   "id": "0ec1ee76",
   "metadata": {},
   "source": [
    "7. Train `friends_classifier` on `friends_vectors` and `friends_labels` using the classifier’s `.fit()` method."
   ]
  },
  {
   "cell_type": "code",
   "execution_count": 44,
   "id": "1436bf4c",
   "metadata": {},
   "outputs": [
    {
     "data": {
      "text/plain": [
       "MultinomialNB()"
      ]
     },
     "execution_count": 44,
     "metadata": {},
     "output_type": "execute_result"
    }
   ],
   "source": [
    "# Train the classifier:\n",
    "friends_classifier.fit(friends_vectors, friends_labels)"
   ]
  },
  {
   "cell_type": "markdown",
   "id": "9c05407f",
   "metadata": {},
   "source": [
    "8. Change predictions value from `[\"None Yet\"]` to the classifier’s prediction about which friend wrote the postcard. You can do this by calling the classifier’s `.predict()` method on the `mystery_vector`."
   ]
  },
  {
   "cell_type": "code",
   "execution_count": 45,
   "id": "f54024da",
   "metadata": {},
   "outputs": [],
   "source": [
    "# Change predictions:\n",
    "# predictions = [\"None Yet\"]\n",
    "predictions = friends_classifier.predict(mystery_vector)\n",
    "\n",
    "# predictions = friends_classifier.predict_proba(mystery_vector)"
   ]
  },
  {
   "cell_type": "code",
   "execution_count": 46,
   "id": "4e338081",
   "metadata": {},
   "outputs": [],
   "source": [
    "mystery_friend = predictions[0] if predictions[0] else \"someone else\""
   ]
  },
  {
   "cell_type": "markdown",
   "id": "986271b4",
   "metadata": {},
   "source": [
    "## Mystery revealed!"
   ]
  },
  {
   "cell_type": "markdown",
   "id": "e354d7a1",
   "metadata": {},
   "source": [
    "9. Uncomment the final print statement and save your code to see who your mystery friend was all along!"
   ]
  },
  {
   "cell_type": "code",
   "execution_count": 47,
   "id": "8b75d0d2",
   "metadata": {},
   "outputs": [
    {
     "name": "stdout",
     "output_type": "stream",
     "text": [
      "The postcard was from 2!\n"
     ]
    }
   ],
   "source": [
    "# Uncomment the print statement:\n",
    "print(\"The postcard was from {}!\".format(mystery_friend))"
   ]
  },
  {
   "cell_type": "markdown",
   "id": "b502bce0",
   "metadata": {},
   "source": [
    "*It is from Matthew Henson.*"
   ]
  },
  {
   "cell_type": "markdown",
   "id": "f4689410",
   "metadata": {},
   "source": [
    "10. But does it really work? Find some lines by Emma Goldman, Matthew Henson, and TingFang Wu on <a href=\"https://gutenberg.org\" target=_blank>gutenberg.org</a> and save them to mystery_postcard to see how the classifier holds up!\n",
    "\n",
    "    Try using the `.predict_proba()` method instead of `.predict()` and print out predictions to see the estimated probabilities that the `mystery_postcard` was written by each person.\n",
    "\n",
    "    What happens when you add in a recent email or text instead?"
   ]
  }
 ],
 "metadata": {
  "kernelspec": {
   "display_name": "Python 3 (ipykernel)",
   "language": "python",
   "name": "python3"
  },
  "language_info": {
   "codemirror_mode": {
    "name": "ipython",
    "version": 3
   },
   "file_extension": ".py",
   "mimetype": "text/x-python",
   "name": "python",
   "nbconvert_exporter": "python",
   "pygments_lexer": "ipython3",
   "version": "3.9.7"
  }
 },
 "nbformat": 4,
 "nbformat_minor": 5
}
